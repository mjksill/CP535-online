{
 "cells": [
  {
   "cell_type": "markdown",
   "metadata": {},
   "source": [
    "# Welcome to to CP535/970: Molecular and Interfacial Science\n",
    "\n",
    "This is the repository for on-line Jupyter notebooks for CP535/970.\n",
    "\n",
    "- Introduction\n",
    "- Surfaces and interfaces\n",
    "- Microscopic dynamics\n",
    "- Statistical mechanics\n",
    "- Ideal gases and kinetic theory\n",
    "- Adsorption\n",
    "- Quantum systems\n",
    "- Electronic properties of materials\n",
    "\n",
    "# Resources\n",
    "\n",
    "- "
   ]
  },
  {
   "cell_type": "code",
   "execution_count": null,
   "metadata": {},
   "outputs": [],
   "source": []
  }
 ],
 "metadata": {
  "kernelspec": {
   "display_name": "Python 3",
   "language": "python",
   "name": "python3"
  },
  "language_info": {
   "codemirror_mode": {
    "name": "ipython",
    "version": 3
   },
   "file_extension": ".py",
   "mimetype": "text/x-python",
   "name": "python",
   "nbconvert_exporter": "python",
   "pygments_lexer": "ipython3",
   "version": "3.7.7"
  }
 },
 "nbformat": 4,
 "nbformat_minor": 2
}
